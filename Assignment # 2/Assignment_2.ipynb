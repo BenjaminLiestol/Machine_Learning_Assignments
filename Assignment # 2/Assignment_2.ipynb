{
 "cells": [
  {
   "cell_type": "markdown",
   "metadata": {
    "colab_type": "text",
    "id": "a9O7dzR2heSV"
   },
   "source": [
    "# Imports"
   ]
  },
  {
   "cell_type": "code",
   "execution_count": 116,
   "metadata": {
    "colab": {
     "base_uri": "https://localhost:8080/",
     "height": 35
    },
    "colab_type": "code",
    "id": "mrOpeZul53Zy",
    "outputId": "f1ce6750-a8d6-470d-842a-59311199981a"
   },
   "outputs": [
    {
     "name": "stdout",
     "output_type": "stream",
     "text": [
      "ERROR! Session/line number was not unique in database. History logging moved to new session 61\n"
     ]
    }
   ],
   "source": [
    "import torch\n",
    "import torch.nn as nn\n",
    "import torch.nn.functional as F\n",
    "import torchvision\n",
    "import torchvision.transforms as transforms\n",
    "\n",
    "from sklearn.utils.multiclass import unique_labels\n",
    "from sklearn.metrics import accuracy_score\n",
    "from sklearn.metrics import f1_score\n",
    "from sklearn import metrics\n",
    "from sklearn.metrics import confusion_matrix\n",
    "\n",
    "import numpy as np\n",
    "import matplotlib.pyplot as plt"
   ]
  },
  {
   "cell_type": "code",
   "execution_count": null,
   "metadata": {
    "colab": {
     "base_uri": "https://localhost:8080/",
     "height": 125
    },
    "colab_type": "code",
    "id": "CqdpyctedmpI",
    "outputId": "866703f2-3ee7-4176-eb8f-9f4705af98d8"
   },
   "outputs": [
    {
     "name": "stdout",
     "output_type": "stream",
     "text": [
      "Go to this URL in a browser: https://accounts.google.com/o/oauth2/auth?client_id=947318989803-6bn6qk8qdgf4n4g3pfee6491hc0brc4i.apps.googleusercontent.com&redirect_uri=urn%3aietf%3awg%3aoauth%3a2.0%3aoob&response_type=code&scope=email%20https%3a%2f%2fwww.googleapis.com%2fauth%2fdocs.test%20https%3a%2f%2fwww.googleapis.com%2fauth%2fdrive%20https%3a%2f%2fwww.googleapis.com%2fauth%2fdrive.photos.readonly%20https%3a%2f%2fwww.googleapis.com%2fauth%2fpeopleapi.readonly\n",
      "\n",
      "Enter your authorization code:\n",
      "··········\n",
      "Mounted at /content/gdrive\n"
     ]
    }
   ],
   "source": [
    "from google.colab import drive\n",
    "drive.mount('/content/drive')"
   ]
  },
  {
   "cell_type": "markdown",
   "metadata": {
    "colab_type": "text",
    "id": "Jlhw2Fayhknc"
   },
   "source": [
    "# Training and testset"
   ]
  },
  {
   "cell_type": "code",
   "execution_count": null,
   "metadata": {
    "colab": {},
    "colab_type": "code",
    "id": "8qAO_4pp61gg"
   },
   "outputs": [],
   "source": [
    "# Definerer batch size, antall klasser, learning rate og antall epoker for klassifiseringen.\n",
    "BATCH_SIZE = 30\n",
    "NUM_CLASSES = 10\n",
    "learning_rate = 0.001\n",
    "num_epochs = 10\n",
    "\n",
    "## transformations\n",
    "transform = transforms.Compose(\n",
    "    [transforms.ToTensor()])\n",
    "\n",
    "# Laster inn training og test set til Fashion MNIST fra Torchvision.\n",
    "trainset = torchvision.datasets.FashionMNIST(root='./data', train=True,\n",
    "                                        download=True, transform=transform)\n",
    "trainloader = torch.utils.data.DataLoader(trainset, batch_size=BATCH_SIZE,\n",
    "                                          shuffle=True, num_workers=2)\n",
    "\n",
    "\n",
    "testset = torchvision.datasets.FashionMNIST(root='./data', train=False,\n",
    "                                       download=True, transform=transform)\n",
    "testloader = torch.utils.data.DataLoader(testset, batch_size=BATCH_SIZE,\n",
    "                                         shuffle=False, num_workers=2)"
   ]
  },
  {
   "cell_type": "markdown",
   "metadata": {
    "colab_type": "text",
    "id": "ceWrgV7k6CeR"
   },
   "source": [
    "# The classifier"
   ]
  },
  {
   "cell_type": "code",
   "execution_count": null,
   "metadata": {
    "colab": {},
    "colab_type": "code",
    "id": "GjNKdEfx7VSd"
   },
   "outputs": [],
   "source": [
    "class NnDigitsClassifier(nn.Module):\n",
    "    def __init__(self):\n",
    "        super(NnDigitsClassifier, self).__init__()\n",
    "\n",
    "        # Task 1: Implementing layers for classification. Uses sequential layering to gather conv-layer and pooling-layer in one.\n",
    "        # The first layer.\n",
    "        self.layer1 = nn.Sequential(\n",
    "            nn.Conv2d(1, 32, kernel_size=5, stride=1, padding=2),\n",
    "            nn.ReLU(),\n",
    "            nn.MaxPool2d(kernel_size=2, stride=2))\n",
    "        \n",
    "        # The second layer.\n",
    "        self.layer2 = nn.Sequential(\n",
    "            nn.Conv2d(32, 64, kernel_size=5, stride=1, padding=2),\n",
    "            nn.ReLU(),\n",
    "            nn.MaxPool2d(kernel_size=2, stride=2))\n",
    "        \n",
    "        # The third layer.\n",
    "        self.layer3 = nn.Sequential(\n",
    "            nn.Conv2d(64, 128, kernel_size=5, stride=1, padding=2),\n",
    "            nn.ReLU(),\n",
    "            nn.MaxPool2d(kernel_size=2, stride=2))\n",
    "        \n",
    "        self.drop_out = nn.Dropout(0.1)\n",
    "        self.fc1 = nn.Linear(3 * 3 * 128, 100)\n",
    "        self.fc2 = nn.Linear(100, NUM_CLASSES)\n",
    "\n",
    "        \n",
    "    # Defines the function \"forward\" which sends the information through the different layers.\n",
    "    def forward(self, x):\n",
    "      out = self.layer1(x)\n",
    "      out = self.layer2(out)\n",
    "      out = self.layer3(out)\n",
    "\n",
    "      out = out.reshape(out.size(0), -1)\n",
    "\n",
    "      out = self.drop_out(out)\n",
    "      out = self.fc1(out)\n",
    "      out = self.fc2(out)\n",
    "      return out"
   ]
  },
  {
   "cell_type": "code",
   "execution_count": null,
   "metadata": {
    "colab": {},
    "colab_type": "code",
    "id": "b9oM6jzm7ZB4"
   },
   "outputs": [],
   "source": [
    "# Tells the program to use the GPU if available, if not, use the CPU.\n",
    "device = torch.device(\"cuda:0\" if torch.cuda.is_available() else \"cpu\")\n",
    "\n",
    "\n",
    "# Defines the object model\n",
    "model = NnDigitsClassifier()\n",
    "model = model.to(device)\n",
    "criterion = nn.CrossEntropyLoss()\n",
    "optimizer = torch.optim.Adam(model.parameters(), lr=learning_rate)"
   ]
  },
  {
   "cell_type": "markdown",
   "metadata": {
    "colab_type": "text",
    "id": "btjT1IX06KVL"
   },
   "source": [
    "# Training"
   ]
  },
  {
   "cell_type": "code",
   "execution_count": 140,
   "metadata": {
    "colab": {
     "base_uri": "https://localhost:8080/",
     "height": 195
    },
    "colab_type": "code",
    "id": "zul2IDuy7aSB",
    "outputId": "584d329b-02c9-488f-9c6e-d25c84d3e508"
   },
   "outputs": [
    {
     "name": "stdout",
     "output_type": "stream",
     "text": [
      "Epoch [1/10] | Loss: 0.3487 | Accuracy: 83.33%\n",
      "Epoch [2/10] | Loss: 0.3735 | Accuracy: 86.67%\n",
      "Epoch [3/10] | Loss: 0.0670 | Accuracy: 100.00%\n",
      "Epoch [4/10] | Loss: 0.2429 | Accuracy: 90.00%\n",
      "Epoch [5/10] | Loss: 0.2132 | Accuracy: 90.00%\n",
      "Epoch [6/10] | Loss: 0.0936 | Accuracy: 96.67%\n",
      "Epoch [7/10] | Loss: 0.0792 | Accuracy: 96.67%\n",
      "Epoch [8/10] | Loss: 0.1601 | Accuracy: 90.00%\n",
      "Epoch [9/10] | Loss: 0.0772 | Accuracy: 96.67%\n",
      "Epoch [10/10] | Loss: 0.0478 | Accuracy: 100.00%\n"
     ]
    }
   ],
   "source": [
    "# Task 2: Training the network\n",
    "loss_list = []\n",
    "acc_list = []\n",
    "for epoch in range(num_epochs):\n",
    "  for i, (images, labels) in enumerate(trainloader):\n",
    "\n",
    "    # Runs the forward method.\n",
    "    outputs = model(images)\n",
    "    loss = criterion(outputs, labels)\n",
    "    loss_list.append(loss.item())\n",
    "\n",
    "    # Runs the Adam optimization.\n",
    "    optimizer.zero_grad()\n",
    "    loss.backward()\n",
    "    optimizer.step()\n",
    "\n",
    "\n",
    "    # Tracks the accuracy.\n",
    "    total = labels.size(0)\n",
    "    _, x_predicted = torch.max(outputs.data, 1)\n",
    "    correct = (x_predicted == labels).sum().item()\n",
    "    acc_list.append(correct / total)\n",
    "  \n",
    "\n",
    "  print('Epoch [{}/{}] | Loss: {:.4f} | Accuracy: {:.2f}%'.format(epoch +1, num_epochs, loss.item(), (correct /total) * 100))\n"
   ]
  },
  {
   "cell_type": "markdown",
   "metadata": {
    "colab_type": "text",
    "id": "OY_nR92jdesN"
   },
   "source": [
    "# Saving and loading"
   ]
  },
  {
   "cell_type": "code",
   "execution_count": 108,
   "metadata": {
    "colab": {
     "base_uri": "https://localhost:8080/",
     "height": 52
    },
    "colab_type": "code",
    "id": "PKYzcuZ5dhNJ",
    "outputId": "92324681-bf6d-4040-9b3d-7e9acb51f1b3"
   },
   "outputs": [
    {
     "name": "stderr",
     "output_type": "stream",
     "text": [
      "/usr/local/lib/python3.6/dist-packages/torch/serialization.py:360: UserWarning: Couldn't retrieve source code for container of type NnDigitsClassifier. It won't be checked for correctness upon loading.\n",
      "  \"type \" + obj.__name__ + \". It won't be checked \"\n"
     ]
    }
   ],
   "source": [
    "torch.save(model, 'drive/My Drive/INFO284/model.pt')\n",
    "torch.save(model.state_dict(), 'drive/My Drive/INFO284/model_state_dict.pt')"
   ]
  },
  {
   "cell_type": "code",
   "execution_count": null,
   "metadata": {
    "colab": {},
    "colab_type": "code",
    "id": "PzAUr_UfeAL8"
   },
   "outputs": [],
   "source": [
    "full_model = torch.load('drive/My Drive/INFO284/model.pt')\n",
    "model_state_dict = torch.load('drive/My Drive/INFO284/model_state_dict.pt')"
   ]
  },
  {
   "cell_type": "code",
   "execution_count": null,
   "metadata": {
    "colab": {},
    "colab_type": "code",
    "id": "uuWF_Vv4eAOX"
   },
   "outputs": [],
   "source": [
    "print(full_model)"
   ]
  },
  {
   "cell_type": "code",
   "execution_count": null,
   "metadata": {
    "colab": {},
    "colab_type": "code",
    "id": "WWQc1FzKeAQT"
   },
   "outputs": [],
   "source": [
    "print(model_state_dict)"
   ]
  },
  {
   "cell_type": "markdown",
   "metadata": {
    "colab_type": "text",
    "id": "FIhILhFoxFzk"
   },
   "source": [
    "# Confusion Matrix"
   ]
  },
  {
   "cell_type": "code",
   "execution_count": null,
   "metadata": {
    "colab": {},
    "colab_type": "code",
    "id": "_3xWeXilxFAG"
   },
   "outputs": [],
   "source": [
    "@torch.no_grad()\n",
    "def get_all_prediction(model, loader):\n",
    "    preds = torch.tensor([])\n",
    "    for batch in loader:\n",
    "        images, labels = batch\n",
    "        batch_predictions = model(images)\n",
    "        preds = torch.cat((preds, batch_predictions), dim = 0)\n",
    "    return preds\n",
    "\n",
    "def plot_confusion_matrix(y_true, y_pred, classes,\n",
    "                          normalize=False,\n",
    "                          title=None,\n",
    "                          cmap=plt.cm.Blues):\n",
    "\n",
    "    # Kalkulere confusion matrix\n",
    "    cm = confusion_matrix(y_true, y_pred)\n",
    "\n",
    "    # Unødvendig kode for representasjon i figure form.\n",
    "    # Dette er bare for at den skal sjå pen ut hehe.\n",
    "    fig, ax = plt.subplots()\n",
    "    im = ax.imshow(cm, interpolation='nearest', cmap=cmap)\n",
    "    ax.figure.colorbar(im, ax=ax)\n",
    "\n",
    "    ax.set(xticks=np.arange(cm.shape[1]),\n",
    "           yticks=np.arange(cm.shape[0]),\n",
    "           \n",
    "           xticklabels=classes, yticklabels=classes,\n",
    "           title=title,\n",
    "           ylabel='True label',\n",
    "           xlabel='Predicted label')\n",
    "\n",
    "    plt.setp(ax.get_xticklabels(), rotation=45, ha=\"right\",\n",
    "             rotation_mode=\"anchor\")\n",
    "\n",
    "    fmt = '.2f' if normalize else 'd'\n",
    "    thresh = cm.max() / 2.\n",
    "    for i in range(cm.shape[0]):\n",
    "        for j in range(cm.shape[1]):\n",
    "            ax.text(j, i, format(cm[i, j], fmt),\n",
    "                    ha=\"center\", va=\"center\",\n",
    "                    color=\"white\" if cm[i, j] > thresh else \"black\")\n",
    "    fig.tight_layout()\n",
    "    return ax"
   ]
  },
  {
   "cell_type": "code",
   "execution_count": null,
   "metadata": {
    "colab": {},
    "colab_type": "code",
    "id": "cVWm6ssvxFVF"
   },
   "outputs": [],
   "source": [
    "train_preds = get_all_prediction(model, testloader)"
   ]
  },
  {
   "cell_type": "code",
   "execution_count": null,
   "metadata": {
    "colab": {},
    "colab_type": "code",
    "id": "BFg0aCqqxFXW"
   },
   "outputs": [],
   "source": [
    "label_dict = {\n",
    " 'T-shirt/top',\n",
    " 'Trouser',\n",
    " 'Pullover',\n",
    " 'Dress',\n",
    " 'Coat',\n",
    " 'Sandal',\n",
    " 'Shirt',\n",
    " 'Sneaker',\n",
    " 'Bag',\n",
    " 'Ankle boot',\n",
    "}"
   ]
  },
  {
   "cell_type": "code",
   "execution_count": 144,
   "metadata": {
    "colab": {
     "base_uri": "https://localhost:8080/",
     "height": 195
    },
    "colab_type": "code",
    "id": "NVPEn9n1xNRT",
    "outputId": "1d0a7535-ed75-4b4a-c57a-fc8d902aadef"
   },
   "outputs": [
    {
     "name": "stdout",
     "output_type": "stream",
     "text": [
      "[[873   0  21  11   4   1  85   0   4   1]\n",
      " [  4 982   0   9   3   0   2   0   0   0]\n",
      " [ 16   2 894   5  37   0  46   0   0   0]\n",
      " [ 15   6  17 904  33   0  20   0   5   0]\n",
      " [  1   0  90  19 845   0  43   0   2   0]\n",
      " [  0   0   0   0   0 986   0   9   0   5]\n",
      " [129   1  75  18  74   0 693   0  10   0]\n",
      " [  0   0   0   0   0   8   0 969   0  23]\n",
      " [  4   1   1   3   0   3   2   0 986   0]\n",
      " [  0   0   1   0   0   7   1  17   0 974]]\n"
     ]
    }
   ],
   "source": [
    "# Enkel fremstilling av confusion matrixen\n",
    "cm = confusion_matrix(testset.targets, train_preds.argmax(dim=1))\n",
    "print(cm)"
   ]
  },
  {
   "cell_type": "code",
   "execution_count": 145,
   "metadata": {
    "colab": {
     "base_uri": "https://localhost:8080/",
     "height": 297
    },
    "colab_type": "code",
    "id": "IUYmkympxNT3",
    "outputId": "378c4aa4-baf5-4f1c-b28f-f7f4efd83f56"
   },
   "outputs": [
    {
     "data": {
      "image/png": "[encoded data removed]",
      "text/plain": [
       "<Figure size 432x288 with 2 Axes>"
      ]
     },
     "metadata": {
      "tags": []
     },
     "output_type": "display_data"
    }
   ],
   "source": [
    "# Pen fremstilling av confusion matrixen\n",
    "plot_confusion_matrix(testset.targets, train_preds.argmax(dim=1), classes=label_dict,\n",
    "                      title='Confusion matrix')\n",
    "plt.show()"
   ]
  },
  {
   "cell_type": "code",
   "execution_count": 146,
   "metadata": {
    "colab": {
     "base_uri": "https://localhost:8080/",
     "height": 35
    },
    "colab_type": "code",
    "id": "jnAvN2vhxNV5",
    "outputId": "cd055cde-ebe5-400f-fff1-57f7754a9129"
   },
   "outputs": [
    {
     "name": "stdout",
     "output_type": "stream",
     "text": [
      "Accuracy: 91.06%\n"
     ]
    }
   ],
   "source": [
    "print('Accuracy: {:.2f}%'.format(accuracy_score(testset.targets, train_preds.argmax(dim=1), normalize=True)*100))"
   ]
  },
  {
   "cell_type": "code",
   "execution_count": null,
   "metadata": {
    "colab": {},
    "colab_type": "code",
    "id": "yaCB_UHYxNXV"
   },
   "outputs": [],
   "source": []
  }
 ],
 "metadata": {
  "colab": {
   "collapsed_sections": [],
   "name": "Bli014 - Assignment 2",
   "provenance": [],
   "toc_visible": true
  },
  "kernelspec": {
   "display_name": "Python 3",
   "language": "python",
   "name": "python3"
  },
  "language_info": {
   "codemirror_mode": {
    "name": "ipython",
    "version": 3
   },
   "file_extension": ".py",
   "mimetype": "text/x-python",
   "name": "python",
   "nbconvert_exporter": "python",
   "pygments_lexer": "ipython3",
   "version": "3.7.3"
  }
 },
 "nbformat": 4,
 "nbformat_minor": 4
}
